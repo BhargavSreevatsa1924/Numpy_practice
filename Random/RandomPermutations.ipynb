{
 "cells": [
  {
   "cell_type": "markdown",
   "id": "fe1c605d",
   "metadata": {},
   "source": [
    "Shuffle means changing arrangement of elements in-place. i.e. in the array its"
   ]
  },
  {
   "cell_type": "markdown",
   "id": "060262be",
   "metadata": {},
   "source": [
    "A permutation refers to an arrangement of elements. e.g. [3, 2, 1] is a permutation of [1, 2, 3] and vice-versa."
   ]
  },
  {
   "cell_type": "code",
   "execution_count": null,
   "id": "521aad4e",
   "metadata": {},
   "outputs": [
    {
     "name": "stdout",
     "output_type": "stream",
     "text": [
      "[2 4 3 1 5]\n"
     ]
    }
   ],
   "source": [
    "from numpy import random\n",
    "import numpy as np \n",
    "arr = np.array([1,2,3,4,5])\n",
    "random.shuffle(arr)\n",
    "# The shuffle() method makes changes to the original array.\n",
    "print(arr)"
   ]
  },
  {
   "cell_type": "code",
   "execution_count": null,
   "id": "c94e7ca6",
   "metadata": {},
   "outputs": [
    {
     "name": "stdout",
     "output_type": "stream",
     "text": [
      "[2 4 5 1 3]\n"
     ]
    }
   ],
   "source": [
    "print(random.permutation(arr))\n",
    "# The permutation() method returns a re-arranged array (and leaves the original array un-changed)."
   ]
  }
 ],
 "metadata": {
  "kernelspec": {
   "display_name": "Python 3",
   "language": "python",
   "name": "python3"
  },
  "language_info": {
   "codemirror_mode": {
    "name": "ipython",
    "version": 3
   },
   "file_extension": ".py",
   "mimetype": "text/x-python",
   "name": "python",
   "nbconvert_exporter": "python",
   "pygments_lexer": "ipython3",
   "version": "3.13.0"
  }
 },
 "nbformat": 4,
 "nbformat_minor": 5
}
