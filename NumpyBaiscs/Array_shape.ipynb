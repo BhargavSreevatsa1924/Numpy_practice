{
 "cells": [
  {
   "cell_type": "code",
   "execution_count": null,
   "id": "ba09f64a",
   "metadata": {},
   "outputs": [
    {
     "name": "stdout",
     "output_type": "stream",
     "text": [
      "(2, 4)\n"
     ]
    }
   ],
   "source": [
    "# it talks about the number of elements in eah dimension\n",
    "# the attribute \"shape\" returns \n",
    "# a tuple with each index having their corresponding number of elements\n",
    "import numpy as np\n",
    "ar =  np.array([[1,2,3,4],[5,6,7,8]])\n",
    "print(ar.shape)\n",
    "# The example above returns (2, 4),\n",
    "# which means that the array has 2 dimensions,\n",
    "# where the first dimension has 2 elements and the second has 4.\n",
    "\n"
   ]
  },
  {
   "cell_type": "code",
   "execution_count": 2,
   "id": "7927da12",
   "metadata": {},
   "outputs": [
    {
     "name": "stdout",
     "output_type": "stream",
     "text": [
      "[[[[[1 2 3 4]]]]]\n",
      "shape of array : (1, 1, 1, 1, 4)\n"
     ]
    }
   ],
   "source": [
    "arr = np.array([1, 2, 3, 4], ndmin=5)\n",
    "\n",
    "print(arr)\n",
    "print('shape of array :', arr.shape)"
   ]
  },
  {
   "cell_type": "markdown",
   "id": "e29e9627",
   "metadata": {},
   "source": [
    "# Reshaping arrays"
   ]
  },
  {
   "cell_type": "markdown",
   "id": "0bcd4a59",
   "metadata": {},
   "source": [
    "Reshaping means changing the shape of an array.\n",
    "\n",
    "The shape of an array is the number of elements in each dimension.\n",
    "\n",
    "By reshaping we can add or remove dimensions or change number of elements in each dimension."
   ]
  },
  {
   "cell_type": "code",
   "execution_count": 3,
   "id": "3f603f26",
   "metadata": {},
   "outputs": [
    {
     "name": "stdout",
     "output_type": "stream",
     "text": [
      "[[ 1  2  3]\n",
      " [ 4  5  6]\n",
      " [ 7  8  9]\n",
      " [10 11 12]]\n"
     ]
    }
   ],
   "source": [
    "arr = np.array([1, 2, 3, 4, 5, 6, 7, 8, 9, 10, 11, 12])\n",
    "\n",
    "newarr = arr.reshape(4, 3)\n",
    "\n",
    "print(newarr)\n",
    "#The outermost dimension will have 4 arrays, each with 3 elements"
   ]
  },
  {
   "cell_type": "code",
   "execution_count": 4,
   "id": "c006623f",
   "metadata": {},
   "outputs": [
    {
     "name": "stdout",
     "output_type": "stream",
     "text": [
      "[[[ 1  2]\n",
      "  [ 3  4]\n",
      "  [ 5  6]]\n",
      "\n",
      " [[ 7  8]\n",
      "  [ 9 10]\n",
      "  [11 12]]]\n"
     ]
    }
   ],
   "source": [
    "# Convert the following 1-D array with 12 elements into a 3-D array.\n",
    "\n",
    "# The outermost dimension will have 2 arrays that contains 3 arrays, each with 2 elements:\n",
    "arr = np.array([1, 2, 3, 4, 5, 6, 7, 8, 9, 10, 11, 12])\n",
    "\n",
    "newarr = arr.reshape(2, 3, 2)\n",
    "\n",
    "print(newarr)"
   ]
  },
  {
   "cell_type": "code",
   "execution_count": null,
   "id": "2ec1f9f0",
   "metadata": {},
   "outputs": [],
   "source": [
    "# # as long as the elements required for reshaping are equal in both shapes.\n",
    "# arr = np.array([1, 2, 3, 4, 5, 6, 7, 8])\n",
    "\n",
    "# newarr = arr.reshape(3, 3)\n",
    "\n",
    "# print(newarr) an error is raised as:\n",
    "\n",
    "# ValueError                                Traceback (most recent call last)\n",
    "# Cell In[5], line 4\n",
    "#       1 # as long as the elements required for reshaping are equal in both shapes.\n",
    "#       2 arr = np.array([1, 2, 3, 4, 5, 6, 7, 8])\n",
    "# ----> 4 newarr = arr.reshape(3, 3)\n",
    "#       6 print(newarr)\n",
    "\n",
    "# ValueError: cannot reshape array of size 8 into shape (3,3)\n"
   ]
  },
  {
   "cell_type": "code",
   "execution_count": null,
   "id": "0138ec3b",
   "metadata": {},
   "outputs": [
    {
     "name": "stdout",
     "output_type": "stream",
     "text": [
      "[1 2 3 4 5 6 7 8]\n"
     ]
    }
   ],
   "source": [
    "# check if returned array is copy or view\n",
    "arr = np.array([1, 2, 3, 4, 5, 6, 7, 8])\n",
    "\n",
    "print(arr.reshape(2, 4).base)\n",
    "# since the orginal array is shown it is a view\n"
   ]
  },
  {
   "cell_type": "markdown",
   "id": "c9ae58c1",
   "metadata": {},
   "source": [
    "# Unknown dimension - \n",
    "You are allowed to have one \"unknown\" dimension.\n",
    "\n",
    "Meaning that you do not have to specify an exact number for one of the dimensions in the reshape method.\n",
    "\n",
    "Pass -1 as the value, and NumPy will calculate this number for you."
   ]
  },
  {
   "cell_type": "code",
   "execution_count": 8,
   "id": "b8c5c820",
   "metadata": {},
   "outputs": [
    {
     "name": "stdout",
     "output_type": "stream",
     "text": [
      "[[[1 2]\n",
      "  [3 4]]\n",
      "\n",
      " [[5 6]\n",
      "  [7 8]]]\n"
     ]
    }
   ],
   "source": [
    "arr = np.array([1, 2, 3, 4, 5, 6, 7, 8])\n",
    "\n",
    "newarr = arr.reshape(2, 2, -1)\n",
    "\n",
    "print(newarr) # we cannot pass -1 to  more than 1 dimension "
   ]
  },
  {
   "cell_type": "markdown",
   "id": "7de533ac",
   "metadata": {},
   "source": [
    "# Flattening the arrays :\n",
    "Flattening array means converting a multidimensional array into a 1D array."
   ]
  },
  {
   "cell_type": "code",
   "execution_count": 9,
   "id": "0835a211",
   "metadata": {},
   "outputs": [
    {
     "name": "stdout",
     "output_type": "stream",
     "text": [
      "[1 2 3 4 5 6]\n"
     ]
    }
   ],
   "source": [
    "arr = np.array([[1, 2, 3], [4, 5, 6]])\n",
    "newarr = arr.reshape(-1)\n",
    "print(newarr)"
   ]
  }
 ],
 "metadata": {
  "kernelspec": {
   "display_name": "Python 3",
   "language": "python",
   "name": "python3"
  },
  "language_info": {
   "codemirror_mode": {
    "name": "ipython",
    "version": 3
   },
   "file_extension": ".py",
   "mimetype": "text/x-python",
   "name": "python",
   "nbconvert_exporter": "python",
   "pygments_lexer": "ipython3",
   "version": "3.13.0"
  }
 },
 "nbformat": 4,
 "nbformat_minor": 5
}
