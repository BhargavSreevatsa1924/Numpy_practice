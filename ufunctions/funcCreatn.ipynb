{
 "cells": [
  {
   "cell_type": "markdown",
   "id": "032c4db4",
   "metadata": {},
   "source": [
    "To create your own ufunc, you have to define a function, like you do with normal functions in Python, then you add it to your NumPy ufunc library with the frompyfunc() method.\n",
    "\n",
    "The frompyfunc() method takes the following arguments:\n",
    "\n",
    "function - the name of the function.\n",
    "inputs - the number of input arguments (arrays).\n",
    "outputs - the number of output arrays."
   ]
  },
  {
   "cell_type": "code",
   "execution_count": 1,
   "id": "f108011f",
   "metadata": {},
   "outputs": [
    {
     "name": "stdout",
     "output_type": "stream",
     "text": [
      "[6 8 10 12]\n"
     ]
    }
   ],
   "source": [
    "import numpy as np\n",
    "def myadd(x,y):\n",
    "    return x+y\n",
    "myadd = np.frompyfunc(myadd,2,1)\n",
    "print(myadd([1, 2, 3, 4], [5, 6, 7, 8]))\n"
   ]
  },
  {
   "cell_type": "code",
   "execution_count": null,
   "id": "e9788d78",
   "metadata": {},
   "outputs": [
    {
     "name": "stdout",
     "output_type": "stream",
     "text": [
      "<class 'numpy.ufunc'>\n"
     ]
    }
   ],
   "source": [
    "# check type if ufunc or not\n",
    "print(type(np.add))\n",
    "# If the function is not recognized at all\n",
    "# it will return an error:"
   ]
  },
  {
   "cell_type": "code",
   "execution_count": 6,
   "id": "cc445bdb",
   "metadata": {},
   "outputs": [
    {
     "name": "stdout",
     "output_type": "stream",
     "text": [
      "it is nt\n"
     ]
    }
   ],
   "source": [
    "if type(np.concatenate) == np.ufunc:\n",
    "    print('add is ufunc')\n",
    "else:\n",
    "    print('it is nt')"
   ]
  }
 ],
 "metadata": {
  "kernelspec": {
   "display_name": "Python 3",
   "language": "python",
   "name": "python3"
  },
  "language_info": {
   "codemirror_mode": {
    "name": "ipython",
    "version": 3
   },
   "file_extension": ".py",
   "mimetype": "text/x-python",
   "name": "python",
   "nbconvert_exporter": "python",
   "pygments_lexer": "ipython3",
   "version": "3.13.0"
  }
 },
 "nbformat": 4,
 "nbformat_minor": 5
}
