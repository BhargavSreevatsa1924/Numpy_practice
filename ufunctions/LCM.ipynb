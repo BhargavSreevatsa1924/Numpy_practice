{
 "cells": [
  {
   "cell_type": "code",
   "execution_count": 1,
   "id": "b5078794",
   "metadata": {},
   "outputs": [
    {
     "name": "stdout",
     "output_type": "stream",
     "text": [
      "12\n"
     ]
    }
   ],
   "source": [
    "import numpy as np\n",
    "\n",
    "num1 = 4\n",
    "num2 = 6\n",
    "\n",
    "x = np.lcm(num1, num2)\n",
    "\n",
    "print(x)"
   ]
  },
  {
   "cell_type": "markdown",
   "id": "11e29a77",
   "metadata": {},
   "source": [
    "To find the Lowest Common Multiple of all values in an array, you can use the reduce() method.\n",
    "\n",
    "The reduce() method will use the ufunc, in this case the lcm() function, on each element, and reduce the array by one dimension."
   ]
  },
  {
   "cell_type": "code",
   "execution_count": 2,
   "id": "3f2fd4c8",
   "metadata": {},
   "outputs": [
    {
     "name": "stdout",
     "output_type": "stream",
     "text": [
      "18\n"
     ]
    }
   ],
   "source": [
    "arr = np.array([3, 6, 9])\n",
    "\n",
    "x = np.lcm.reduce(arr)\n",
    "\n",
    "print(x)"
   ]
  },
  {
   "cell_type": "code",
   "execution_count": null,
   "id": "5aae9b93",
   "metadata": {},
   "outputs": [],
   "source": [
    "# the LCM of all values of an array \n",
    "# where the array contains all integers from 1 to 10:\n",
    "arr = np.arange(1, 11)\n",
    "\n",
    "x = np.lcm.reduce(arr)\n",
    "\n",
    "print(x)"
   ]
  }
 ],
 "metadata": {
  "kernelspec": {
   "display_name": "Python 3",
   "language": "python",
   "name": "python3"
  },
  "language_info": {
   "codemirror_mode": {
    "name": "ipython",
    "version": 3
   },
   "file_extension": ".py",
   "mimetype": "text/x-python",
   "name": "python",
   "nbconvert_exporter": "python",
   "pygments_lexer": "ipython3",
   "version": "3.13.0"
  }
 },
 "nbformat": 4,
 "nbformat_minor": 5
}
