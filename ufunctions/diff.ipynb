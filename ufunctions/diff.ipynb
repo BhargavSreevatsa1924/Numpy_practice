{
 "cells": [
  {
   "cell_type": "markdown",
   "id": "0cfdd674",
   "metadata": {},
   "source": [
    "A discrete difference means subtracting two successive elements.\n",
    "\n",
    "E.g. for [1, 2, 3, 4], the discrete difference would be [2-1, 3-2, 4-3] = [1, 1, 1]\n",
    "\n",
    "To find the discrete difference, use the diff() function."
   ]
  },
  {
   "cell_type": "code",
   "execution_count": null,
   "id": "bafb6a4c",
   "metadata": {},
   "outputs": [
    {
     "name": "stdout",
     "output_type": "stream",
     "text": [
      "[  5  10 -20]\n"
     ]
    }
   ],
   "source": [
    "import numpy as np\n",
    "arr = np.array([10, 15, 25, 5])\n",
    "\n",
    "newarr = np.diff(arr)\n",
    "# Returns: [5 10 -20] because\n",
    "# 15-10=5, 25-15=10, and 5-25=-20\n",
    "print(newarr)\n",
    "# We can perform this operation repeatedly by giving parameter n."
   ]
  },
  {
   "cell_type": "code",
   "execution_count": 2,
   "id": "bde08a03",
   "metadata": {},
   "outputs": [
    {
     "name": "stdout",
     "output_type": "stream",
     "text": [
      "[  5 -30]\n"
     ]
    }
   ],
   "source": [
    "newarr = np.diff(arr, n=2)\n",
    "\n",
    "print(newarr)"
   ]
  }
 ],
 "metadata": {
  "kernelspec": {
   "display_name": "Python 3",
   "language": "python",
   "name": "python3"
  },
  "language_info": {
   "codemirror_mode": {
    "name": "ipython",
    "version": 3
   },
   "file_extension": ".py",
   "mimetype": "text/x-python",
   "name": "python",
   "nbconvert_exporter": "python",
   "pygments_lexer": "ipython3",
   "version": "3.13.0"
  }
 },
 "nbformat": 4,
 "nbformat_minor": 5
}
