{
 "cells": [
  {
   "cell_type": "code",
   "execution_count": null,
   "id": "813d77e9",
   "metadata": {},
   "outputs": [
    {
     "name": "stdout",
     "output_type": "stream",
     "text": [
      "12\n"
     ]
    }
   ],
   "source": [
    "import numpy as np\n",
    "\n",
    "arr1 = np.array([1, 2, 3])\n",
    "arr2 = np.array([1, 2, 3])\n",
    "\n",
    "newarr = np.sum([arr1, arr2])\n",
    "\n",
    "print(newarr)\n",
    "# VS\n",
    "# import numpy as np\n",
    "\n",
    "# arr1 = np.array([1, 2, 3])\n",
    "# arr2 = np.array([1, 2, 3])\n",
    "\n",
    "# newarr = np.add(arr1, arr2)\n",
    "\n",
    "# print(newarr)"
   ]
  },
  {
   "cell_type": "code",
   "execution_count": 2,
   "id": "d5b0c4cf",
   "metadata": {},
   "outputs": [
    {
     "name": "stdout",
     "output_type": "stream",
     "text": [
      "[6 6]\n"
     ]
    }
   ],
   "source": [
    "newarr = np.sum([arr1, arr2], axis=1)\n",
    "# If you specify axis=1,\n",
    "# NumPy will sum the numbers in each array.\n",
    "\n",
    "print(newarr)"
   ]
  },
  {
   "cell_type": "code",
   "execution_count": 3,
   "id": "7dccba32",
   "metadata": {},
   "outputs": [
    {
     "name": "stdout",
     "output_type": "stream",
     "text": [
      "[1 3 6]\n"
     ]
    }
   ],
   "source": [
    "# Cummulative sum means partially adding the elements in array\n",
    "# E.g. The partial sum of [1, 2, 3, 4]\n",
    "# would be [1, 1+2, 1+2+3, 1+2+3+4] = [1, 3, 6, 10].\n",
    "# Perfom partial sum with the cumsum() function.\n",
    "arr = np.array([1, 2, 3])\n",
    "\n",
    "newarr = np.cumsum(arr)\n",
    "\n",
    "print(newarr)\n",
    "\n"
   ]
  }
 ],
 "metadata": {
  "kernelspec": {
   "display_name": "Python 3",
   "language": "python",
   "name": "python3"
  },
  "language_info": {
   "codemirror_mode": {
    "name": "ipython",
    "version": 3
   },
   "file_extension": ".py",
   "mimetype": "text/x-python",
   "name": "python",
   "nbconvert_exporter": "python",
   "pygments_lexer": "ipython3",
   "version": "3.13.0"
  }
 },
 "nbformat": 4,
 "nbformat_minor": 5
}
